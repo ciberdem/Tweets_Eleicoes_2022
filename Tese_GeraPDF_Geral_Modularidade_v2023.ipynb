{
 "cells": [
  {
   "cell_type": "markdown",
   "id": "5b9f288e",
   "metadata": {},
   "source": [
    "Passo 5 - Exemplo de formatação em PDF com os resultados da pesquisa\n",
    "\n",
    "Esse código salva os resultados encontrados para um grupo de modularidades em um arquivo PDF. \n",
    "\n",
    "Pode ser usado para servir com base para geração de relatórios mais sofisticados nesse formato"
   ]
  },
  {
   "cell_type": "markdown",
   "id": "019f0413",
   "metadata": {},
   "source": [
    "Declarar as libs"
   ]
  },
  {
   "cell_type": "code",
   "execution_count": 44,
   "id": "da66565b",
   "metadata": {},
   "outputs": [],
   "source": [
    "import pandas as pd\n",
    "import dataframe_image as dfi\n",
    "from PIL import Image, ImageDraw, ImageFont\n",
    "\n",
    "from wordcloud import WordCloud\n",
    "from wordcloud import ImageColorGenerator\n",
    "from wordcloud import STOPWORDS\n",
    "import matplotlib.pyplot as plt\n",
    "from mpl_toolkits import mplot3d\n",
    "import networkx as nx\n",
    "import numpy as np\n",
    "import re\n",
    "import os\n",
    "\n",
    "from collections import Counter\n",
    "from operator import itemgetter\n",
    "import tweepy\n",
    "from fpdf import FPDF"
   ]
  },
  {
   "cell_type": "markdown",
   "id": "1e5cf7d2",
   "metadata": {},
   "source": [
    "Definição dos arquivos de entrada do processamento"
   ]
  },
  {
   "cell_type": "code",
   "execution_count": null,
   "id": "29ef84a2",
   "metadata": {},
   "outputs": [],
   "source": [
    "rotulo = \"Nome do Arquivo\" # nome do arquivo que será usado como padrão para criação dos arquivos\n",
    "\n",
    "data_pesquisa = \"0101\" # data referencia usada para criação dos arquivos\n",
    "save_path = 'C:\\\\diretório\\\\' # diretório padrão para criação dos arquivos\n",
    "\n",
    "arq_gephi = save_path + \"\\\\\" + rotulo + \"\\\\\" + 'gephi_' + rotulo + '.csv'\n",
    "arq_fonte = save_path + \"\\\\\" + rotulo + \"\\\\\" + rotulo + '_'+ data_pesquisa + '_original.csv'\n",
    "arq_fonte_hidratado = save_path + \"\\\\\" + rotulo + \"\\\\\" + rotulo + '_CR_'+ data_pesquisa + '_raw.csv'\n",
    "resumo_img = save_path + \"\\\\\" + rotulo + \"\\\\\" + rotulo + '_resumo_tweets.png'\n",
    "\n",
    "\n",
    "df_a = pd.read_csv(arq_gephi, low_memory = False, index_col=False)\n",
    "df_b = pd.read_csv(arq_fonte, low_memory = False, index_col=False)\n",
    "df_c = pd.read_csv(arq_fonte_hidratado, low_memory = False, index_col=False)"
   ]
  },
  {
   "cell_type": "markdown",
   "id": "d7fe7e1e",
   "metadata": {},
   "source": [
    "Definição das modularidades que serão usadas para geração do relatório"
   ]
  },
  {
   "cell_type": "code",
   "execution_count": null,
   "id": "f5038918",
   "metadata": {},
   "outputs": [],
   "source": [
    "mod_01 = 4\n",
    "mod_02 = 8\n",
    "mod_03 = 1\n",
    "mod_04 = 9\n",
    "mod_05 = 0"
   ]
  },
  {
   "cell_type": "markdown",
   "id": "58ec11a6",
   "metadata": {},
   "source": [
    "Formatação do Relatório"
   ]
  },
  {
   "cell_type": "code",
   "execution_count": 48,
   "id": "e4a6f458",
   "metadata": {},
   "outputs": [],
   "source": [
    "font = ImageFont.truetype(\"arial.ttf\", size=14)\n",
    "img = Image.new('RGB', (512, 256), color='white')\n",
    "imgDraw = ImageDraw.Draw(img)\n"
   ]
  },
  {
   "cell_type": "code",
   "execution_count": 49,
   "id": "e086616e",
   "metadata": {},
   "outputs": [],
   "source": [
    "df_temp = df_a.groupby(['modularity_class']).count()\n",
    "df_temp = df_temp.sort_values(['Eccentricity'], ascending=[False])\n",
    "df_temp = df_temp[\"Eccentricity\"]/(df_temp[\"Eccentricity\"].sum())*100\n",
    "df_temp = df_temp.head(5)\n"
   ]
  },
  {
   "cell_type": "code",
   "execution_count": 50,
   "id": "b989c436",
   "metadata": {},
   "outputs": [],
   "source": [
    "#labels gerais das paginas\"\n",
    "periodo_inicial = \"Texto com a data/hora de início da pesquisa\"\n",
    "periodo_medio = \"Texto com a data/hora de intermediário da pesquisa\"\n",
    "periodo_final = \"Texto com a data/hora de fim da pesquisa\"\n",
    "total_nodes_edges =\"Texto os nros de nodes e edges encontrados na pesquisa\"\n",
    "\n",
    "\n",
    "imgDraw.text((10, 10), \"Total de Tweets extraidos:\" + str(df_b.shape[0]), font=font, fill=(0, 0, 0))\n",
    "imgDraw.text((10, 30), \"Total de Tweets extraidos e mencoes individualizadas:\" + str(df_c.shape[0]), font=font, fill=(0, 0, 0))\n",
    "imgDraw.text((10, 70), \"Principais comunidades (percentual do total) \", font=font, fill=(0, 0, 0))\n",
    "imgDraw.text((10, 90), \"Total de Nodes e Edges: \" + total_nodes_edges, font=font, fill=(0, 0, 0))\n",
    "imgDraw.text((10, 110), str(df_temp), font=font, fill=(0, 0, 0))\n",
    "img.save(resumo_img)"
   ]
  },
  {
   "cell_type": "code",
   "execution_count": 51,
   "id": "911f0af3",
   "metadata": {},
   "outputs": [],
   "source": [
    "font = ImageFont.truetype(\"arial.ttf\", size=24)\n",
    "img = Image.open(save_path + \"\\\\\" + rotulo + \"\\\\\" + rotulo + \"_mapa_gephi_geral.png\")\n",
    "d1 = ImageDraw.Draw(img)\n",
    "d1.text((10, 10), \"Mapa Geral de Rede \", font=font, fill=(0, 0, 0))\n",
    "img.save(save_path + \"\\\\\" + rotulo + \"\\\\\" + rotulo + \"_mapa_gephi_geral.png\")"
   ]
  },
  {
   "cell_type": "code",
   "execution_count": 52,
   "id": "95f9468c",
   "metadata": {},
   "outputs": [],
   "source": [
    "font = ImageFont.truetype(\"arial.ttf\", size=24)\n",
    "img = Image.open(save_path + \"\\\\\" + rotulo + \"\\\\\" + rotulo + \"_mapa_gephi_geral_inicial.png\")\n",
    "d1 = ImageDraw.Draw(img)\n",
    "d1.text((10, 10), \"Mapa Geral de Rede \" + periodo_inicial , font=font, fill=(0, 0, 0))\n",
    "img.save(save_path + \"\\\\\" + rotulo + \"\\\\\" + rotulo + \"_mapa_gephi_geral_inicial.png\")"
   ]
  },
  {
   "cell_type": "code",
   "execution_count": 53,
   "id": "2e611745",
   "metadata": {},
   "outputs": [],
   "source": [
    "font = ImageFont.truetype(\"arial.ttf\", size=24)\n",
    "img = Image.open(save_path + \"\\\\\" + rotulo + \"\\\\\" + rotulo + \"_mapa_gephi_geral_meio.png\")\n",
    "d1 = ImageDraw.Draw(img)\n",
    "d1.text((10, 10), \"Mapa Geral de Rede \" + periodo_medio , font=font, fill=(0, 0, 0))\n",
    "img.save(save_path + \"\\\\\" + rotulo + \"\\\\\" + rotulo + \"_mapa_gephi_geral_meio.png\")"
   ]
  },
  {
   "cell_type": "code",
   "execution_count": 54,
   "id": "30fb9d09",
   "metadata": {},
   "outputs": [],
   "source": [
    "font = ImageFont.truetype(\"arial.ttf\", size=24)\n",
    "img = Image.open(save_path + \"\\\\\" + rotulo + \"\\\\\" + rotulo + \"_mapa_gephi_geral_final.png\")\n",
    "d1 = ImageDraw.Draw(img)\n",
    "d1.text((10, 10), \"Mapa Geral de Rede \" + periodo_final , font=font, fill=(0, 0, 0))\n",
    "img.save(save_path + \"\\\\\" + rotulo + \"\\\\\" + rotulo + \"_mapa_gephi_geral_final.png\")"
   ]
  },
  {
   "cell_type": "code",
   "execution_count": null,
   "id": "c715f068",
   "metadata": {},
   "outputs": [],
   "source": [
    "pdf = FPDF()\n",
    "pdf.add_page()\n",
    "pdf.set_font(\"helvetica\", \"B\", 14)\n",
    "pdf.cell(40, 10, \"Estudo de Centralidade - Dados Gerais / \" + rotulo)\n",
    "pdf.image(save_path + \"\\\\\" + rotulo + \"\\\\\" + rotulo + \"_wordcloud_geral.png\", h=pdf.eph/3, w=pdf.epw/2, x=10, y=20)\n",
    "pdf.image(save_path + \"\\\\\" + rotulo + \"\\\\\" + rotulo + \"_centralidade_geral.png\", h=pdf.eph/3, w=pdf.epw/1.75, x=100, y=20)\n",
    "pdf.image(save_path + \"\\\\\" + rotulo + \"\\\\\" + rotulo + \"_Tabela Centralidade Geral.png\",h=pdf.eph/3, w=pdf.epw, x=10, y=120)\n",
    "pdf.image(save_path + \"\\\\\" + rotulo + \"\\\\\" + rotulo + \"_resumo_tweets.png\",h=pdf.eph/6, w=pdf.epw/2, x=10, y=220)\n",
    "pdf.image(save_path + \"\\\\\" + rotulo + \"\\\\\" + rotulo + \"_CR_\" + data_pesquisa + \"_hist.png\",h=pdf.eph/4, w=pdf.epw/1.8, x=90, y=210)\n",
    "\n",
    "\n",
    "pdf.add_page()\n",
    "pdf.set_font(\"helvetica\", \"B\", 14)\n",
    "pdf.cell(40, 10, \"Mapa de Rede - Dados Gerais / \" + rotulo)\n",
    "pdf.image(save_path + \"\\\\\" + rotulo + \"\\\\\" + rotulo + \"_mapa_gephi_geral_inicial.png\", h=pdf.eph/3, w=pdf.epw/1.75, x=10, y=30)\n",
    "pdf.image(save_path + \"\\\\\" + rotulo + \"\\\\\" + rotulo + \"_mapa_gephi_geral_meio.png\", h=pdf.eph/3, w=pdf.epw/2, x=110, y=30)\n",
    "pdf.image(save_path + \"\\\\\" + rotulo + \"\\\\\" + rotulo + \"_mapa_gephi_geral_final.png\", h=pdf.eph/3, w=pdf.epw/1.75, x=60, y=120)\n",
    "\n"
   ]
  },
  {
   "cell_type": "code",
   "execution_count": null,
   "id": "32ac30a2",
   "metadata": {},
   "outputs": [],
   "source": [
    "pdf.add_page()\n",
    "pdf.set_font(\"helvetica\", \"B\", 14)\n",
    "pdf.cell(40, 10, \"Estudo de Centralidade - Dados da Comunidade \" + str(mod_01)+ \" / \" + rotulo)\n",
    "\n",
    "pdf.image(save_path + \"\\\\\" + rotulo + \"\\\\\" + rotulo + \"_wordcloud_mod_01.png\", h=pdf.eph/3, w=pdf.epw/2, x=10, y=20)\n",
    "pdf.image(save_path + \"\\\\\" + rotulo + \"\\\\\" + rotulo + \"_centralidade_mod_01.png\", h=pdf.eph/3, w=pdf.epw/1.75, x=100, y=20)\n",
    "pdf.image(save_path + \"\\\\\" + rotulo + \"\\\\\" + rotulo + \"_Tabela_Centralidade_mod_01.png\",h=pdf.eph/3, w=pdf.epw, x=10, y=120)\n",
    "\n",
    "\n",
    "\n",
    "# pdf.image(save_path + \"\\\\\" + rotulo + \"\\\\\" + rotulo + \"_resumo_tweets.png\",h=pdf.eph/6, w=pdf.epw/2, x=10, y=220)\n",
    "\n",
    "pdf.add_page()\n",
    "pdf.set_font(\"helvetica\", \"B\", 14)\n",
    "pdf.cell(40, 10, \"Estudo de Centralidade - Dados da Comunidade \" + str(mod_02)+ \" / \" + rotulo)\n",
    "\n",
    "pdf.image(save_path + \"\\\\\" + rotulo + \"\\\\\" + rotulo + \"_wordcloud_mod_02.png\", h=pdf.eph/3, w=pdf.epw/2, x=10, y=20)\n",
    "pdf.image(save_path + \"\\\\\" + rotulo + \"\\\\\" + rotulo + \"_centralidade_mod_02.png\", h=pdf.eph/3, w=pdf.epw/1.75, x=100, y=20)\n",
    "pdf.image(save_path + \"\\\\\" + rotulo + \"\\\\\" + rotulo + \"_Tabela_Centralidade_mod_02.png\",h=pdf.eph/3, w=pdf.epw, x=10, y=120)\n",
    "\n",
    "\n",
    "pdf.add_page()\n",
    "pdf.set_font(\"helvetica\", \"B\", 14)\n",
    "pdf.cell(40, 10, \"Estudo de Centralidade - Dados da Comunidade \" + str(mod_03)+ \" / \" + rotulo)\n",
    "\n",
    "pdf.image(save_path + \"\\\\\" + rotulo + \"\\\\\" + rotulo + \"_wordcloud_mod_03.png\", h=pdf.eph/3, w=pdf.epw/2, x=10, y=20)\n",
    "pdf.image(save_path + \"\\\\\" + rotulo + \"\\\\\" + rotulo + \"_centralidade_mod_03.png\", h=pdf.eph/3, w=pdf.epw/1.75, x=100, y=20)\n",
    "pdf.image(save_path + \"\\\\\" + rotulo + \"\\\\\" + rotulo + \"_Tabela_Centralidade_mod_03.png\",h=pdf.eph/3, w=pdf.epw, x=10, y=120)\n",
    "\n",
    "\n",
    "pdf.add_page()\n",
    "pdf.set_font(\"helvetica\", \"B\", 14)\n",
    "pdf.cell(40, 10, \"Estudo de Centralidade - Dados da Comunidade \" + str(mod_04)+ \" / \" + rotulo)\n",
    "\n",
    "pdf.image(save_path + \"\\\\\" + rotulo + \"\\\\\" + rotulo + \"_wordcloud_mod_04.png\", h=pdf.eph/3, w=pdf.epw/2, x=10, y=20)\n",
    "pdf.image(save_path + \"\\\\\" + rotulo + \"\\\\\" + rotulo + \"_centralidade_mod_04.png\", h=pdf.eph/3, w=pdf.epw/1.75, x=100, y=20)\n",
    "pdf.image(save_path + \"\\\\\" + rotulo + \"\\\\\" + rotulo + \"_Tabela_Centralidade_mod_04.png\",h=pdf.eph/3, w=pdf.epw, x=10, y=120)\n",
    "\n",
    "\n",
    "pdf.add_page()\n",
    "pdf.set_font(\"helvetica\", \"B\", 14)\n",
    "pdf.cell(40, 10, \"Estudo de Centralidade - Dados da Comunidade \" + str(mod_05)+ \" / \" + rotulo)\n",
    "\n",
    "pdf.image(save_path + \"\\\\\" + rotulo + \"\\\\\" + rotulo + \"_wordcloud_mod_05.png\", h=pdf.eph/3, w=pdf.epw/2, x=10, y=20)\n",
    "pdf.image(save_path + \"\\\\\" + rotulo + \"\\\\\" + rotulo + \"_centralidade_mod_05.png\", h=pdf.eph/3, w=pdf.epw/1.75, x=100, y=20)\n",
    "pdf.image(save_path + \"\\\\\" + rotulo + \"\\\\\" + rotulo + \"_Tabela_Centralidade_mod_05.png\",h=pdf.eph/3, w=pdf.epw, x=10, y=120)\n",
    "\n"
   ]
  },
  {
   "cell_type": "code",
   "execution_count": null,
   "id": "97e2946e",
   "metadata": {},
   "outputs": [],
   "source": [
    "pdf.add_page()\n",
    "pdf.set_font(\"helvetica\", \"B\", 14)\n",
    "pdf.cell(40, 10, \"Mapa de Rede - \" + rotulo)\n",
    "pdf.image(save_path + \"\\\\\" + rotulo + \"\\\\\" + rotulo + \"_mapa_gephi_geral.png\", h=pdf.eph, w=pdf.epw, x=10, y=20)\n",
    "\n",
    "pdf.add_page()\n",
    "pdf.set_font(\"helvetica\", \"B\", 14)\n",
    "pdf.cell(40, 10, \"Mapa de Rede - Comunidade \" + str(mod_01)+ \" / \" + rotulo)\n",
    "pdf.image(save_path + \"\\\\\" + rotulo + \"\\\\\" + rotulo + \"_gephi_mapa_rede_mod_01.png\",h=pdf.eph, w=pdf.epw , x=10, y=20)\n",
    "\n",
    "pdf.add_page()\n",
    "pdf.set_font(\"helvetica\", \"B\", 14)\n",
    "pdf.cell(40, 10, \"Mapa de Rede - Comunidade \" + str(mod_02)+ \" / \" + rotulo)\n",
    "pdf.image(save_path + \"\\\\\" + rotulo + \"\\\\\" + rotulo + \"_gephi_mapa_rede_mod_02.png\",h=pdf.eph, w=pdf.epw , x=10, y=20)\n",
    "\n",
    "pdf.add_page()\n",
    "pdf.set_font(\"helvetica\", \"B\", 14)\n",
    "pdf.cell(40, 10, \"Mapa de Rede - Comunidade \" + str(mod_03)+ \" / \" + rotulo)\n",
    "pdf.image(save_path + \"\\\\\" + rotulo + \"\\\\\" + rotulo + \"_gephi_mapa_rede_mod_03.png\",h=pdf.eph, w=pdf.epw , x=10, y=20)\n",
    "\n",
    "pdf.add_page()\n",
    "pdf.set_font(\"helvetica\", \"B\", 14)\n",
    "pdf.cell(40, 10, \"Mapa de Rede - Comunidade \" + str(mod_04)+ \" / \" + rotulo)\n",
    "pdf.image(save_path + \"\\\\\" + rotulo + \"\\\\\" + rotulo + \"_gephi_mapa_rede_mod_04.png\",h=pdf.eph, w=pdf.epw , x=10, y=20)\n",
    "\n",
    "pdf.add_page()\n",
    "pdf.set_font(\"helvetica\", \"B\", 14)\n",
    "pdf.cell(40, 10, \"Mapa de Rede - Comunidade \" + str(mod_05)+ \" / \" + rotulo)\n",
    "pdf.image(save_path + \"\\\\\" + rotulo + \"\\\\\" + rotulo + \"_gephi_mapa_rede_mod_05.png\",h=pdf.eph, w=pdf.epw , x=10, y=20)\n"
   ]
  },
  {
   "cell_type": "code",
   "execution_count": 58,
   "id": "b2f34a1d",
   "metadata": {},
   "outputs": [],
   "source": [
    "pdf.output(save_path + \"\\\\\" + rotulo + \"\\\\\" + rotulo + \"_Relatorio_Geral_PDF.pdf\")"
   ]
  },
  {
   "cell_type": "code",
   "execution_count": null,
   "id": "7740c771",
   "metadata": {},
   "outputs": [],
   "source": []
  }
 ],
 "metadata": {
  "kernelspec": {
   "display_name": "Python 3 (ipykernel)",
   "language": "python",
   "name": "python3"
  },
  "language_info": {
   "codemirror_mode": {
    "name": "ipython",
    "version": 3
   },
   "file_extension": ".py",
   "mimetype": "text/x-python",
   "name": "python",
   "nbconvert_exporter": "python",
   "pygments_lexer": "ipython3",
   "version": "3.9.7"
  }
 },
 "nbformat": 4,
 "nbformat_minor": 5
}
